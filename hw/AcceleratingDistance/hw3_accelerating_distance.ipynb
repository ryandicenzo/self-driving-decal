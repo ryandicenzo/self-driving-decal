{
 "cells": [
  {
   "cell_type": "code",
   "execution_count": 179,
   "metadata": {},
   "outputs": [],
   "source": [
    "import sys\n",
    "sys.path.append('../')\n",
    "\n",
    "import controller\n",
    "import torch\n",
    "import torch.nn as nn\n",
    "import random\n",
    "import numpy as np\n",
    "import matplotlib.pyplot as plt"
   ]
  },
  {
   "cell_type": "code",
   "execution_count": 183,
   "metadata": {},
   "outputs": [],
   "source": [
    "CAR_MODEL = \"complex\"\n",
    "ci = controller.Car_Interface(model = CAR_MODEL)\n",
    "\n",
    "ci.set_gear(ci.FORWARD)"
   ]
  },
  {
   "cell_type": "code",
   "execution_count": 191,
   "metadata": {},
   "outputs": [],
   "source": [
    "np.random.seed(191)\n",
    "\n",
    "'''\n",
    "We want to make a model that can tell you how much\n",
    "you should depress the accelerator in order to achieve\n",
    "a target speed after travelling a target distance.\n",
    "\n",
    "Your goal is to randomly generate an (input, output)\n",
    "pair that can be used for training or evaluating your\n",
    "model. The input would be in the form of the final speed\n",
    "achieved and the distance travelled and the output would\n",
    "be the amount the pedal was accelerated to get there.\n",
    "'''\n",
    "\n",
    "def accelerate_until_velocity(ci, target_vel, amt):\n",
    "    while(len(ci.log[\"velocity\"]) == 0 or ci.log[\"velocity\"][-1] < target_vel):\n",
    "        ci.apply_control(pedal = ci.ACCELERATOR, amount = amt)\n",
    "\n",
    "\n",
    "def accelerating_distance_gen(ci, t=50):\n",
    "    target_vel = random.random()\n",
    "    amt = 0.15 + random.random() * 0.85\n",
    "    \n",
    "    pos_initial = ci.log[\"position\"][-1]\n",
    "    \n",
    "    ci.apply_control_for_time(pedal = ci.ACCELERATOR, amount = amt, time = t)\n",
    "    \n",
    "    final_speed = ci.log[\"velocity\"][-1]\n",
    "    \n",
    "    distance_traveled = ci.log[\"position\"][-1] - pos_initial \n",
    "\n",
    "    inp = [final_speed, distance_traveled]\n",
    "\n",
    "    return amt, inp"
   ]
  },
  {
   "cell_type": "code",
   "execution_count": 192,
   "metadata": {},
   "outputs": [
    {
     "name": "stdout",
     "output_type": "stream",
     "text": [
      "A car applied 38.79% accelerator, and achieved a speed of 32.78% after travelling 19.01 distance units\n"
     ]
    }
   ],
   "source": [
    "amt, (final_speed, distance_travelled) = accelerating_distance_gen(ci)\n",
    "print(f\"A car applied {amt * 100:.2f}% accelerator, and achieved a speed of {final_speed * 100:.2f}% after travelling {distance_travelled:.2f} distance units\")"
   ]
  },
  {
   "cell_type": "code",
   "execution_count": 193,
   "metadata": {},
   "outputs": [],
   "source": [
    "'''\n",
    "Function should return how much distance the car\n",
    "would travel if the accelerator was being pressed amt\n",
    "until it acheived final_velocity\n",
    "'''\n",
    "def actual_accelerating_distance(final_velocity, amt):\n",
    "    #OPTIONAL CODE HERE\n",
    "    return d\n",
    "\n",
    "def approximate_amount(inp, tol = 1e-5, min_amt = 0, max_amt = 1):\n",
    "    mid_amt = (min_amt + max_amt) / 2\n",
    "    if (max_amt - min_amt < 2 * tol):\n",
    "        return mid_amt\n",
    "\n",
    "    v, accelerating_distance = inp\n",
    "    if (actual_accelerating_distance(v, mid_amt) < accelerating_distance):\n",
    "        return approximate_amount(inp, tol, min_amt, mid_amt)\n",
    "    else:\n",
    "        return approximate_amount(inp, tol, mid_amt, max_amt)"
   ]
  },
  {
   "cell_type": "code",
   "execution_count": 194,
   "metadata": {},
   "outputs": [],
   "source": [
    "'''\n",
    "Fully Connected Module used to predict\n",
    "necessary accelerator pedal depression given\n",
    "target velocity and target distance from standstill.\n",
    "'''\n",
    "class fcn(nn.Module):\n",
    "\n",
    "    def __init__(self):\n",
    "        super().__init__()\n",
    "\n",
    "        self.H_1 = 30\n",
    "        self.H_2 = 20\n",
    "\n",
    "        self.W_1 = nn.Parameter(torch.randn([2, self.H_1]))\n",
    "        self.B_1 = nn.Parameter(torch.randn([self.H_1]))\n",
    "\n",
    "        self.W_2 = nn.Parameter(torch.randn([self.H_1, self.H_2]))\n",
    "        self.B_2 = nn.Parameter(torch.randn([self.H_2]))\n",
    "\n",
    "        self.W_3 = nn.Parameter(torch.randn([self.H_2, 1]))\n",
    "        self.B_3 = nn.Parameter(torch.randn([1]))\n",
    "\n",
    "    def forward(self, x):\n",
    "\n",
    "        x = torch.tensor(x, dtype = torch.float32)\n",
    "\n",
    "        h_1 = torch.tanh(torch.matmul(x, self.W_1) + self.B_1)\n",
    "\n",
    "        h_2 = torch.tanh(torch.matmul(h_1, self.W_2) + self.B_2)\n",
    "\n",
    "        out = torch.squeeze(torch.matmul(h_2, self.W_3) + self.B_3)\n",
    "\n",
    "        return 1.15 * torch.sigmoid(out)"
   ]
  },
  {
   "cell_type": "code",
   "execution_count": 195,
   "metadata": {},
   "outputs": [
    {
     "name": "stdout",
     "output_type": "stream",
     "text": [
      "EPOCH 1 0.3717\n",
      "EPOCH 2 0.2961\n",
      "EPOCH 3 0.2077\n",
      "EPOCH 4 0.0380\n",
      "EPOCH 5 0.0401\n",
      "EPOCH 6 0.0146\n",
      "EPOCH 7 0.0119\n",
      "EPOCH 8 0.0079\n",
      "EPOCH 9 0.0077\n",
      "EPOCH 10 0.0058\n"
     ]
    }
   ],
   "source": [
    "#Initialize training parameters here\n",
    "NUM_BATCHES = 10\n",
    "BATCH_SIZE = 30\n",
    "EPOCHS = 10\n",
    "\n",
    "\n",
    "#USE_LAST = True\n",
    "\n",
    "FN = \"weights_\" + CAR_MODEL\n",
    "\n",
    "model = fcn()\n",
    "#if(USE_LAST):\n",
    "#   model.load_state_dict(torch.load(open(FN + \".pt\", \"rb\")))\n",
    "\n",
    "#Initialize optimizer here\n",
    "optimizer = torch.optim.Adam(model.parameters(), lr = 1e-3)\n",
    "\n",
    "for e in range(EPOCHS):\n",
    "    e_loss = 0\n",
    "    for b in range(NUM_BATCHES):\n",
    "        b_loss = 0\n",
    "        for i in range(BATCH_SIZE):\n",
    "            amt, inp = accelerating_distance_gen(ci)\n",
    "            \n",
    "            out = model(inp)\n",
    "            amt_t = torch.tensor(amt)\n",
    "            b_loss += (out - amt_t) ** 2\n",
    "\n",
    "        b_loss /= BATCH_SIZE\n",
    "\n",
    "        optimizer.zero_grad()\n",
    "        b_loss.backward()\n",
    "        optimizer.step()\n",
    "\n",
    "        b_loss = b_loss.detach().numpy()\n",
    "        print(f\"B {b} L {b_loss:.4f}\", end = \"\\r\")\n",
    "        e_loss += b_loss\n",
    "\n",
    "    e_loss /= NUM_BATCHES\n",
    "    print(f\"EPOCH {e + 1} {e_loss:.4f}\")\n",
    "\n",
    "    torch.save(model.state_dict(), open(FN + \".pt\", \"wb\"))"
   ]
  },
  {
   "cell_type": "code",
   "execution_count": 196,
   "metadata": {},
   "outputs": [
    {
     "name": "stdout",
     "output_type": "stream",
     "text": [
      "WITHIN 0.1 227/300 times\n",
      "AVERAGE ERROR 0.06908701674203814\n"
     ]
    },
    {
     "data": {
      "image/png": "[encoded data removed]",
      "text/plain": [
       "<Figure size 432x288 with 1 Axes>"
      ]
     },
     "metadata": {
      "needs_background": "light"
     },
     "output_type": "display_data"
    }
   ],
   "source": [
    "TEST = 300\n",
    "correct = 0\n",
    "tol = 0.1\n",
    "errors = []\n",
    "for i in range(TEST):\n",
    "    print(f\"TESTING {i + 1}/{TEST}\", end = \"\\r\")\n",
    "    amt, inp = accelerating_distance_gen(ci)\n",
    "\n",
    "    #run this to get FCN output\n",
    "    out = model(inp).detach().numpy()\n",
    "    \n",
    "    #run this to use analytical output\n",
    "    #out = approximate_amount(inp)\n",
    "\n",
    "    if (abs(out - amt) < tol):\n",
    "        correct += 1\n",
    "    errors.append(out - amt)\n",
    "print(f\"WITHIN {tol} {correct}/{TEST} times\")\n",
    "print(f\"AVERAGE ERROR {np.mean(np.abs(errors))}\")\n",
    "\n",
    "plt.title(\"Error Distribution\")\n",
    "plt.hist(errors, bins = 200, range = (-1, 1))\n",
    "plt.show()"
   ]
  }
 ],
 "metadata": {
  "kernelspec": {
   "display_name": "Python 3",
   "language": "python",
   "name": "python3"
  },
  "language_info": {
   "codemirror_mode": {
    "name": "ipython",
    "version": 3
   },
   "file_extension": ".py",
   "mimetype": "text/x-python",
   "name": "python",
   "nbconvert_exporter": "python",
   "pygments_lexer": "ipython3",
   "version": "3.7.4"
  }
 },
 "nbformat": 4,
 "nbformat_minor": 2
}
